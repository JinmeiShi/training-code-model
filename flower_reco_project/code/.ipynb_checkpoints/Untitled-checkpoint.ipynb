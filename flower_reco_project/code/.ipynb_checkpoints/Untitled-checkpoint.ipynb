{
 "cells": [
  {
   "cell_type": "code",
   "execution_count": null,
   "metadata": {},
   "outputs": [],
   "source": [
    "from __future__ import division, print_function, unicode_literals\n",
    "\n",
    "# Common imports\n",
    "import numpy as np\n",
    "import os\n",
    "import tensorflow as tf\n",
    "import time\n",
    "\n",
    "FLOWERS_URL = \"http://download.tensorflow.org/example_images/flower_photos.tgz\"\n",
    "FLOWERS_PATH = os.path.join(\"datasets\", \"flowers\")\n",
    "\n",
    "# to make this notebook's output stable across runs\n",
    "def reset_graph(seed=42):\n",
    "    tf.reset_default_graph()\n",
    "    tf.set_random_seed(seed)\n",
    "    np.random.seed(seed)\n",
    "\n",
    "    \n",
    "from tensorflow.contrib.slim.nets import inception\n",
    "import tensorflow.contrib.slim as slim\n",
    "\n",
    "reset_graph()\n",
    "\n",
    "height,width,channels = 299,299,3\n",
    "\n",
    "X = tf.placeholder(tf.float32,shape=[None,height,width,channels],name='X')\n",
    "training = tf.placeholder_with_default(False,shape=[])\n",
    "keep_prob = tf.placeholder(tf.float32,shape=[])\n",
    "\n",
    "\n",
    "with slim.arg_scope(inception.inception_v3_arg_scope()):\n",
    "    logits,endpoints = inception.inception_v3(X,num_classes=1001,is_training=training)\n",
    "    prelogits = tf.squeeze(endpoints['PreLogits'],axis=[1,2])\n",
    "n_outputs = 5\n",
    "\n",
    "with tf.name_scope('new_output_layer'):\n",
    "    with tf.variable_scope('fc_trainable'): \n",
    "        dense_prelogit1 = tf.layers.dense(prelogits,1024,\n",
    "                                          activation=tf.nn.relu,\n",
    "                                          name='dense_prelogit1')\n",
    "        dropout1 = tf.layers.dropout(dense_prelogit1,keep_prob,\n",
    "                                training=training,\n",
    "                                name='dropout1')\n",
    "        flower_logits = tf.layers.dense(dropout1,n_outputs,name='flower_logits')\n",
    "    Y_proba = tf.nn.softmax(flower_logits,name='Y_proba')\n",
    "    \n",
    "y = tf.placeholder(tf.int32,shape=[None])\n",
    "\n",
    "with tf.name_scope('eval'):\n",
    "    correct = tf.nn.in_top_k(flower_logits,y,1)\n",
    "    accuracy = tf.reduce_mean(tf.cast(correct,tf.float32))\n",
    "    \n",
    "saver = tf.train.Saver()"
   ]
  }
 ],
 "metadata": {
  "kernelspec": {
   "display_name": "Python 3",
   "language": "python",
   "name": "python3"
  },
  "language_info": {
   "codemirror_mode": {
    "name": "ipython",
    "version": 3
   },
   "file_extension": ".py",
   "mimetype": "text/x-python",
   "name": "python",
   "nbconvert_exporter": "python",
   "pygments_lexer": "ipython3",
   "version": "3.5.2"
  }
 },
 "nbformat": 4,
 "nbformat_minor": 2
}
