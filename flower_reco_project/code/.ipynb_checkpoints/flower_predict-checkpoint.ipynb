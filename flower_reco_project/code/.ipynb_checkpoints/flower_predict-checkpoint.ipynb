{
 "cells": [
  {
   "cell_type": "code",
   "execution_count": 95,
   "metadata": {},
   "outputs": [
    {
     "data": {
      "text/plain": [
       "_StoreAction(option_strings=['--image-dir'], dest='image_dir', nargs=None, const=None, default='datasets/flowers/flower_photos/daisy/100080576_f52e8ee070_n.jpg', type=<class 'str'>, choices=None, help='input image directory for model and training .', metavar=None)"
      ]
     },
     "execution_count": 95,
     "metadata": {},
     "output_type": "execute_result"
    }
   ],
   "source": [
    "from __future__ import division, print_function, unicode_literals\n",
    "\n",
    "# Common imports\n",
    "import numpy as np\n",
    "import os\n",
    "import tensorflow as tf\n",
    "import time\n",
    "import flower_input_data as input_data\n",
    "from random import sample\n",
    "import  matplotlib.image as mpimg\n",
    "import argparse\n",
    "from tensorflow.contrib.slim.nets import inception\n",
    "import tensorflow.contrib.slim as slim\n",
    "\n",
    "\n",
    "# Setup input args parser\n",
    "parser = argparse.ArgumentParser()\n",
    "parser.add_argument(\n",
    "    '--image-dir', type=str, default='datasets/flowers/flower_photos/daisy/100080576_f52e8ee070_n.jpg',\n",
    "    help='input image directory for model and training .')\n",
    "# parser.add_argument(\n",
    "#     '--learning-rate', type=float, default=0.002,\n",
    "#     help='Adam learning rate.')\n",
    "# parser.add_argument(\n",
    "#     '--train-steps', type=int, default=5000,\n",
    "#     help='Training steps.')\n",
    "# parser.add_argument(\n",
    "#     '--batch-size', type=int, default=128,\n",
    "#     help='Batch size to be used.')\n"
   ]
  },
  {
   "cell_type": "code",
   "execution_count": 96,
   "metadata": {},
   "outputs": [],
   "source": [
    "def reset_graph(seed=42):\n",
    "    tf.reset_default_graph()\n",
    "    tf.set_random_seed(seed)\n",
    "    np.random.seed(seed)\n",
    "\n",
    "\n",
    "def prepare_single_image(image_path):\n",
    "    image = mpimg.imread(image_path)\n",
    "    prepared_image = input_data.prepare_image(image)\n",
    "    prepared_image = 2*prepared_image-1\n",
    "    \n",
    "    return np.expand_dims(prepared_image,axis=0)\n",
    "\n",
    "def inference(X,training,keep_prob):\n",
    "    with slim.arg_scope(inception.inception_v3_arg_scope()):\n",
    "        logits,endpoints = inception.inception_v3(X,num_classes=1001,is_training=training)\n",
    "    prelogits = tf.squeeze(endpoints['PreLogits'],axis=[1,2])\n",
    "    n_outputs = 5\n",
    "    # variable_averages = tf.train.ExponentialMovingAverage(0.999)\n",
    "\n",
    "    with tf.name_scope('new_output_layer'):\n",
    "        with tf.variable_scope('fc_trainable'): \n",
    "            dense_prelogit1 = tf.layers.dense(prelogits,1024,\n",
    "                                              activation=tf.nn.relu,\n",
    "                                              name='dense_prelogit1')\n",
    "            dropout1 = tf.layers.dropout(dense_prelogit1,keep_prob,\n",
    "                                    training=training,\n",
    "                                    name='dropout1')\n",
    "            flower_logits = tf.layers.dense(dropout1,n_outputs,name='flower_logits')\n",
    "            predictions = tf.argmax(flower_logits,1)\n",
    "        Y_proba = tf.nn.softmax(flower_logits,name='Y_proba')\n",
    "    return predictions\n",
    "\n"
   ]
  },
  {
   "cell_type": "code",
   "execution_count": 97,
   "metadata": {},
   "outputs": [],
   "source": [
    "\n",
    "def main(argv=None):\n",
    "    params = parser.parse_args(argv[1:])\n",
    "    image_dir = params.image_dir\n",
    "    height,width,channels = 299,299,3\n",
    "\n",
    "    X = tf.placeholder(tf.float32,shape=[None,height,width,channels],name='X')\n",
    "    training = tf.placeholder_with_default(False,shape=[])\n",
    "    keep_prob = tf.placeholder(tf.float32,shape=[])\n",
    "\n",
    "    predictions = inference(X,training,keep_prob)\n",
    "    saver = tf.train.Saver()\n",
    "\n",
    "    with tf.Session() as sess:\n",
    "        saver.restore(sess,'./my_flower_model')\n",
    "        prepared_image = prepare_single_image(image_dir)\n",
    "        predicts = sess.run(predictions,\n",
    "                           feed_dict={X:prepared_image,\n",
    "                                      keep_prob:1 })\n",
    "        print('image predictions ',predicts)\n",
    "\n"
   ]
  },
  {
   "cell_type": "code",
   "execution_count": 99,
   "metadata": {},
   "outputs": [
    {
     "name": "stderr",
     "output_type": "stream",
     "text": [
      "usage: ipykernel_launcher.py [-h] [--image-dir IMAGE_DIR]\n",
      "ipykernel_launcher.py: error: unrecognized arguments: -f /root/.local/share/jupyter/runtime/kernel-461bb308-3cc2-4cd6-8f1b-0778439cab86.json\n"
     ]
    },
    {
     "ename": "SystemExit",
     "evalue": "2",
     "output_type": "error",
     "traceback": [
      "An exception has occurred, use %tb to see the full traceback.\n",
      "\u001b[0;31mSystemExit\u001b[0m\u001b[0;31m:\u001b[0m 2\n"
     ]
    },
    {
     "name": "stderr",
     "output_type": "stream",
     "text": [
      "/usr/local/lib/python3.5/dist-packages/IPython/core/interactiveshell.py:2971: UserWarning: To exit: use 'exit', 'quit', or Ctrl-D.\n",
      "  warn(\"To exit: use 'exit', 'quit', or Ctrl-D.\", stacklevel=1)\n"
     ]
    }
   ],
   "source": [
    "if __name__=='__main__':\n",
    "    reset_graph()\n",
    "    tf.app.run()"
   ]
  },
  {
   "cell_type": "code",
   "execution_count": null,
   "metadata": {},
   "outputs": [],
   "source": []
  }
 ],
 "metadata": {
  "kernelspec": {
   "display_name": "Python 3",
   "language": "python",
   "name": "python3"
  },
  "language_info": {
   "codemirror_mode": {
    "name": "ipython",
    "version": 3
   },
   "file_extension": ".py",
   "mimetype": "text/x-python",
   "name": "python",
   "nbconvert_exporter": "python",
   "pygments_lexer": "ipython3",
   "version": "3.5.2"
  }
 },
 "nbformat": 4,
 "nbformat_minor": 2
}
