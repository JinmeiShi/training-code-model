version https://git-lfs.github.com/spec/v1
oid sha256:fcd04ca4b0ab5221ca53c80694e2355275d41bae5130d7344aaf7fec2b8c9ad7
size 27100
