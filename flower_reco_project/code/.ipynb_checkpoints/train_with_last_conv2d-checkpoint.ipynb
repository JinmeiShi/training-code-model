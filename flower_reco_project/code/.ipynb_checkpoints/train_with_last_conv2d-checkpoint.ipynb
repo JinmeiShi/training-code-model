{
 "cells": [
  {
   "cell_type": "code",
   "execution_count": 1,
   "metadata": {},
   "outputs": [
    {
     "name": "stderr",
     "output_type": "stream",
     "text": [
      "/usr/local/lib/python3.5/dist-packages/h5py/__init__.py:36: FutureWarning: Conversion of the second argument of issubdtype from `float` to `np.floating` is deprecated. In future, it will be treated as `np.float64 == np.dtype(float).type`.\n",
      "  from ._conv import register_converters as _register_converters\n"
     ]
    }
   ],
   "source": [
    "# To support both python 2 and python 3\n",
    "from __future__ import division, print_function, unicode_literals\n",
    "\n",
    "# Common imports\n",
    "import numpy as np\n",
    "import os\n",
    "import tensorflow as tf\n",
    "\n",
    "import sys\n",
    "import tarfile\n",
    "from six.moves import urllib\n",
    "\n",
    "FLOWERS_URL = \"http://download.tensorflow.org/example_images/flower_photos.tgz\"\n",
    "FLOWERS_PATH = os.path.join(\"datasets\", \"flowers\")\n",
    "INCEPTION_PATH = os.path.join(\"datasets\", \"inception\")\n",
    "INCEPTION_V3_CHECKPOINT_PATH = os.path.join(INCEPTION_PATH, \"inception_v3.ckpt\")\n",
    "\n",
    "# to make this notebook's output stable across runs\n",
    "def reset_graph(seed=42):\n",
    "    tf.reset_default_graph()\n",
    "    tf.set_random_seed(seed)\n",
    "    np.random.seed(seed)\n",
    "\n"
   ]
  },
  {
   "cell_type": "code",
   "execution_count": 2,
   "metadata": {},
   "outputs": [],
   "source": [
    "flower_root_path = os.path.join(FLOWERS_PATH,'flower_photos')\n",
    "flower_classes = [dirs for dirs in os.listdir(flower_root_path)\n",
    "                 if os.path.isdir(os.path.join(flower_root_path,dirs))]\n",
    "\n",
    "from collections import defaultdict\n",
    "\n",
    "image_path = defaultdict(list)\n",
    "for flower_class in flower_classes:\n",
    "    dir_path = os.path.join(flower_root_path,flower_class)\n",
    "    for file in os.listdir(dir_path):\n",
    "        if file.endswith('.jpg'):\n",
    "            image_path[flower_class].append(os.path.join(dir_path,file))\n",
    "        "
   ]
  },
  {
   "cell_type": "code",
   "execution_count": 3,
   "metadata": {},
   "outputs": [],
   "source": [
    "from scipy.misc import imresize\n",
    "\n",
    "def prepare_image(image, target_width=299,target_height=299,max_zoom=0.2):\n",
    "    height = image.shape[0]\n",
    "    width = image.shape[1]\n",
    "    target_ratio = target_width/target_height\n",
    "    curr_ratio = width/height\n",
    "    crop_vertically = target_ratio > curr_ratio\n",
    "    crop_width = width if crop_vertically else int(height*target_ratio)\n",
    "    crop_height = int(width/target_ratio) if crop_vertically else height\n",
    "    \n",
    "    resize_factor = np.random.rand()*max_zoom+1.0\n",
    "    crop_width = int(crop_width/resize_factor)\n",
    "    crop_height = int(crop_height/resize_factor)\n",
    "    \n",
    "    x0 = np.random.randint(0,width-crop_width)\n",
    "    y0 = np.random.randint(0,height-crop_height)\n",
    "    x1 = x0+crop_width\n",
    "    y1 = y0+crop_height\n",
    "    crop_image = image[y0:y1,x0:x1]\n",
    "\n",
    "    if np.random.rand() < 0.5:\n",
    "        crop_image = np.fliplr(crop_image)\n",
    "    \n",
    "    resize_image = imresize(crop_image,(target_height,target_width))\n",
    "    return resize_image.astype(np.float32)/255\n",
    "    \n",
    "def prepare_image_with_tensorflow(image,target_width=299,target_height=299,max_zoom=0.2):\n",
    "    image_shape = tf.cast(tf.shape(image),tf.float32)\n",
    "    height = image_shape[0]\n",
    "    width = image_shape[1]\n",
    "    target_ratio = target_width/target_height\n",
    "    image_ratio = width/height\n",
    "    crop_vertically = target_ratio > image_ratio\n",
    "    crop_width = tf.cond(crop_vertically,lambda:width,lambda:height*target_ratio)\n",
    "    crop_height = tf.cond(crop_vertically,lambda:width/target_ratio,lambda:height)\n",
    "    \n",
    "    resize_factor = tf.random_uniform(shape=[],minval=1,maxval=1+max_zoom)\n",
    "    crop_width = tf.cast(crop_width/resize_factor,tf.int32)\n",
    "    crop_height = tf.cast(crop_height/resize_factor,tf.int32)\n",
    "    boxsize = tf.stack([crop_height,crop_width,3])\n",
    "    image = tf.random_crop(image,boxsize)\n",
    "    image = tf.image.random_flip_left_right(image)\n",
    "    image_batch = tf.expand_dims(image,0)\n",
    "    image_batch = tf.image.resize_bilinear(image_batch,[target_width,target_height])\n",
    "    image = image_batch[0]/255\n",
    "    return image"
   ]
  },
  {
   "cell_type": "code",
   "execution_count": 10,
   "metadata": {},
   "outputs": [],
   "source": [
    "from tensorflow.contrib.slim.nets import inception\n",
    "import tensorflow.contrib.slim as slim\n",
    "\n",
    "# with tf.Graph.as_default():\n",
    "reset_graph()\n",
    "\n",
    "height,width,channels = 299,299,3\n",
    "\n",
    "X = tf.placeholder(tf.float32,shape=[None,height,width,channels],name='X')\n",
    "training = tf.placeholder_with_default(False,shape=[])\n",
    "keep_prob = tf.placeholder(tf.float32,shape=[])\n",
    "\n",
    "with slim.arg_scope(inception.inception_v3_arg_scope()):\n",
    "    logits,endpoints = inception.inception_v3(X,num_classes=1001,is_training=training)\n",
    "\n",
    "inception_saver = tf.train.Saver()\n",
    "\n"
   ]
  },
  {
   "cell_type": "code",
   "execution_count": 12,
   "metadata": {},
   "outputs": [],
   "source": [
    "init_learning_rate = 0.0005\n",
    "global_step  = tf.Variable(0,trainable=False)\n",
    "learning_rate = tf.train.exponential_decay(init_learning_rate,\n",
    "                                          global_step=global_step,\n",
    "                                          decay_steps=200, decay_rate=0.95)\n",
    "\n",
    "prelogits = tf.squeeze(endpoints['PreLogits'],axis=[1,2])\n",
    "n_outputs = len(flower_classes)\n",
    "regularizer = tf.contrib.layers.l2_regularizer(0.0005)\n",
    "# variable_averages = tf.train.ExponentialMovingAverage(0.999, global_step)\n",
    "\n",
    "with tf.name_scope('new_output_layer'):\n",
    "    with tf.variable_scope('fc_trainable'): \n",
    "        dense_prelogit1 = tf.layers.dense(prelogits,1024,\n",
    "                                          activation=tf.nn.relu,\n",
    "                                          name='dense_prelogit1')\n",
    "        dropout1 = tf.layers.dropout(dense_prelogit1,keep_prob,\n",
    "                                    training=training,\n",
    "                                    name='dropout1')\n",
    "        flower_logits = tf.layers.dense(dropout1,n_outputs,\n",
    "                                            name='flower_logits')\n",
    "#     tf.add_to_collection('dense_collections',dense_prelogit1)\n",
    "#     tf.add_to_collection('dense_collections',flower_logits)\n",
    "    Y_proba = tf.nn.softmax(flower_logits,name='Y_proba')\n",
    "    \n",
    "y = tf.placeholder(tf.int32,shape=[None])\n",
    "with tf.name_scope('train'):\n",
    "    fc_vars = tf.get_collection(tf.GraphKeys.TRAINABLE_VARIABLES,\n",
    "                               scope='fc_trainable')\n",
    "    flower_vars = tf.get_collection(tf.GraphKeys.TRAINABLE_VARIABLES,\n",
    "                                    scope='flower_logits')\n",
    "    prelogits_vars = tf.get_collection(tf.GraphKeys.TRAINABLE_VARIABLES,\n",
    "                                       scope='dense_prelogit1')\n",
    "    logits_conv2d = tf.get_collection(tf.GraphKeys.TRAINABLE_VARIABLES,\n",
    "                                    scope='InceptionV3/Logits')\n",
    "    \n",
    "    tf.add_to_collection('regular_loss',regularizer(dense_prelogit1))\n",
    "    tf.add_to_collection('regular_loss',regularizer(flower_logits))\n",
    "\n",
    "    ##  MovingAverage\n",
    "#     variables_averages_op = variable_averages.apply(fc_vars)\n",
    "#     ave_vars = [variable_averages.average(var) for var in fc_vars]\n",
    "#     save_vars = fc_vars + ave_vars\n",
    "\n",
    "\n",
    "    \n",
    "    \n",
    "    xentropy = tf.nn.sparse_softmax_cross_entropy_with_logits(logits=flower_logits,\n",
    "                                                            labels=y)\n",
    "    regular_loss = tf.add_n(tf.get_collection('regular_loss'))\n",
    "    loss = tf.reduce_mean(xentropy)+regular_loss\n",
    "    optimizer = tf.train.AdamOptimizer(learning_rate=learning_rate)\n",
    "\n",
    "    train_op = optimizer.minimize(loss,\n",
    "                                  var_list=[fc_vars,logits_conv2d])\n",
    "#     train_op = tf.group(train_op,variables_averages_op)\n",
    "    add_global = global_step.assign_add(1)\n",
    "    \n",
    "with tf.name_scope('eval'):\n",
    "    correct = tf.nn.in_top_k(flower_logits,y,1)\n",
    "    accuracy = tf.reduce_mean(tf.cast(correct,tf.float32))\n",
    "    \n",
    "with tf.name_scope('init_and_save'):\n",
    "    init = tf.global_variables_initializer()\n",
    "    saver = tf.train.Saver()"
   ]
  },
  {
   "cell_type": "code",
   "execution_count": 9,
   "metadata": {},
   "outputs": [
    {
     "data": {
      "text/plain": [
       "[<tf.Variable 'InceptionV3/Logits/Conv2d_1c_1x1/weights:0' shape=(1, 1, 2048, 1001) dtype=float32_ref>,\n",
       " <tf.Variable 'InceptionV3/Logits/Conv2d_1c_1x1/biases:0' shape=(1001,) dtype=float32_ref>]"
      ]
     },
     "execution_count": 9,
     "metadata": {},
     "output_type": "execute_result"
    }
   ],
   "source": [
    "[v for v in tf.get_collection(tf.GraphKeys.TRAINABLE_VARIABLES,\n",
    "                                    scope='InceptionV3/Logits')]"
   ]
  },
  {
   "cell_type": "code",
   "execution_count": 6,
   "metadata": {},
   "outputs": [],
   "source": [
    "flower_class_ids = {flower_class:index for index,flower_class in enumerate(flower_classes)}\n",
    "\n",
    "flower_paths_and_classes = []\n",
    "for flower_class,paths in image_path.items():\n",
    "    for path in paths:\n",
    "        flower_paths_and_classes.append((path,flower_class_ids[flower_class]))\n",
    "        \n",
    "test_ratio = 0.2\n",
    "train_size = int(len(flower_paths_and_classes)*(1-test_ratio))\n",
    "np.random.shuffle(flower_paths_and_classes)\n",
    "flower_paths_and_classes_train = flower_paths_and_classes[:train_size]\n",
    "flower_paths_and_classes_test = flower_paths_and_classes[train_size:]"
   ]
  },
  {
   "cell_type": "code",
   "execution_count": 7,
   "metadata": {},
   "outputs": [],
   "source": [
    "from random import sample\n",
    "import  matplotlib.image as mpimg\n",
    "\n",
    "def prepare_batch(flower_paths_and_classes,batch_size):\n",
    "    batch_path_and_classes = sample(flower_paths_and_classes,batch_size)\n",
    "    images = [mpimg.imread(path)[:,:,:channels] for path,labels in batch_path_and_classes]\n",
    "    prepared_image = [prepare_image(image) for image in images]\n",
    "    X_batch = 2*np.stack(prepared_image)-1 # inception 输入要求\n",
    "    y_batch = np.array([labels for path,labels in batch_path_and_classes],dtype=np.int32)\n",
    "    return X_batch,y_batch\n",
    "\n",
    "# X_test,y_test = prepare_batch(flower_paths_and_classes_test,\n",
    "#                                batch_size=len(flower_paths_and_classes_test))\n"
   ]
  },
  {
   "cell_type": "code",
   "execution_count": 13,
   "metadata": {},
   "outputs": [
    {
     "name": "stdout",
     "output_type": "stream",
     "text": [
      "INFO:tensorflow:Restoring parameters from datasets/inception/inception_v3.ckpt\n",
      "Epoch  0\n",
      "."
     ]
    },
    {
     "name": "stderr",
     "output_type": "stream",
     "text": [
      "/usr/local/lib/python3.5/dist-packages/ipykernel_launcher.py:25: DeprecationWarning: `imresize` is deprecated!\n",
      "`imresize` is deprecated in SciPy 1.0.0, and will be removed in 1.2.0.\n",
      "Use ``skimage.transform.resize`` instead.\n"
     ]
    },
    {
     "name": "stdout",
     "output_type": "stream",
     "text": [
      "..........................................................................................learning_rate: 0.0009769318\n",
      "global step 91\n",
      "accuracy is 0.59375, loss 0.879475\n",
      "Epoch  1\n",
      "...........................................................................................learning_rate: 0.00095439574\n",
      "global step 182\n",
      "accuracy is 0.65625, loss 0.861313\n",
      "Epoch  2\n",
      "...........................................................................................learning_rate: 0.00093237945\n",
      "global step 273\n",
      "accuracy is 0.6875, loss 0.858588\n",
      "Epoch  3\n",
      "...........................................................................................learning_rate: 0.00091087125\n",
      "global step 364\n",
      "accuracy is 0.59375, loss 0.671074\n",
      "Epoch  4\n",
      "...........................................................................................learning_rate: 0.000889859\n",
      "global step 455\n",
      "accuracy is 0.625, loss 0.92136\n",
      "Epoch  5\n",
      "............................................................."
     ]
    },
    {
     "ename": "KeyboardInterrupt",
     "evalue": "",
     "output_type": "error",
     "traceback": [
      "\u001b[0;31m---------------------------------------------------------------------------\u001b[0m",
      "\u001b[0;31mKeyboardInterrupt\u001b[0m                         Traceback (most recent call last)",
      "\u001b[0;32m<ipython-input-13-825ff69a625c>\u001b[0m in \u001b[0;36m<module>\u001b[0;34m()\u001b[0m\n\u001b[1;32m     10\u001b[0m         \u001b[0;32mfor\u001b[0m \u001b[0mstep\u001b[0m \u001b[0;32min\u001b[0m \u001b[0mrange\u001b[0m\u001b[0;34m(\u001b[0m\u001b[0mn_iterations_per_epoch\u001b[0m\u001b[0;34m)\u001b[0m\u001b[0;34m:\u001b[0m\u001b[0;34m\u001b[0m\u001b[0m\n\u001b[1;32m     11\u001b[0m             \u001b[0mprint\u001b[0m\u001b[0;34m(\u001b[0m\u001b[0;34m'.'\u001b[0m\u001b[0;34m,\u001b[0m\u001b[0mend\u001b[0m\u001b[0;34m=\u001b[0m\u001b[0;34m''\u001b[0m\u001b[0;34m)\u001b[0m\u001b[0;34m\u001b[0m\u001b[0m\n\u001b[0;32m---> 12\u001b[0;31m             \u001b[0mX_batch\u001b[0m\u001b[0;34m,\u001b[0m\u001b[0my_batch\u001b[0m \u001b[0;34m=\u001b[0m \u001b[0mprepare_batch\u001b[0m\u001b[0;34m(\u001b[0m\u001b[0mflower_paths_and_classes_train\u001b[0m\u001b[0;34m,\u001b[0m\u001b[0mbatch_size\u001b[0m\u001b[0;34m)\u001b[0m\u001b[0;34m\u001b[0m\u001b[0m\n\u001b[0m\u001b[1;32m     13\u001b[0m             _,losses,global_steps=sess.run([train_op,loss,add_global],\n\u001b[1;32m     14\u001b[0m                                   feed_dict={X:X_batch,\n",
      "\u001b[0;32m<ipython-input-7-6b7d9e71dc38>\u001b[0m in \u001b[0;36mprepare_batch\u001b[0;34m(flower_paths_and_classes, batch_size)\u001b[0m\n\u001b[1;32m      5\u001b[0m     \u001b[0mbatch_path_and_classes\u001b[0m \u001b[0;34m=\u001b[0m \u001b[0msample\u001b[0m\u001b[0;34m(\u001b[0m\u001b[0mflower_paths_and_classes\u001b[0m\u001b[0;34m,\u001b[0m\u001b[0mbatch_size\u001b[0m\u001b[0;34m)\u001b[0m\u001b[0;34m\u001b[0m\u001b[0m\n\u001b[1;32m      6\u001b[0m     \u001b[0mimages\u001b[0m \u001b[0;34m=\u001b[0m \u001b[0;34m[\u001b[0m\u001b[0mmpimg\u001b[0m\u001b[0;34m.\u001b[0m\u001b[0mimread\u001b[0m\u001b[0;34m(\u001b[0m\u001b[0mpath\u001b[0m\u001b[0;34m)\u001b[0m\u001b[0;34m[\u001b[0m\u001b[0;34m:\u001b[0m\u001b[0;34m,\u001b[0m\u001b[0;34m:\u001b[0m\u001b[0;34m,\u001b[0m\u001b[0;34m:\u001b[0m\u001b[0mchannels\u001b[0m\u001b[0;34m]\u001b[0m \u001b[0;32mfor\u001b[0m \u001b[0mpath\u001b[0m\u001b[0;34m,\u001b[0m\u001b[0mlabels\u001b[0m \u001b[0;32min\u001b[0m \u001b[0mbatch_path_and_classes\u001b[0m\u001b[0;34m]\u001b[0m\u001b[0;34m\u001b[0m\u001b[0m\n\u001b[0;32m----> 7\u001b[0;31m     \u001b[0mprepared_image\u001b[0m \u001b[0;34m=\u001b[0m \u001b[0;34m[\u001b[0m\u001b[0mprepare_image\u001b[0m\u001b[0;34m(\u001b[0m\u001b[0mimage\u001b[0m\u001b[0;34m)\u001b[0m \u001b[0;32mfor\u001b[0m \u001b[0mimage\u001b[0m \u001b[0;32min\u001b[0m \u001b[0mimages\u001b[0m\u001b[0;34m]\u001b[0m\u001b[0;34m\u001b[0m\u001b[0m\n\u001b[0m\u001b[1;32m      8\u001b[0m     \u001b[0mX_batch\u001b[0m \u001b[0;34m=\u001b[0m \u001b[0;36m2\u001b[0m\u001b[0;34m*\u001b[0m\u001b[0mnp\u001b[0m\u001b[0;34m.\u001b[0m\u001b[0mstack\u001b[0m\u001b[0;34m(\u001b[0m\u001b[0mprepared_image\u001b[0m\u001b[0;34m)\u001b[0m\u001b[0;34m-\u001b[0m\u001b[0;36m1\u001b[0m \u001b[0;31m# inception 输入要求\u001b[0m\u001b[0;34m\u001b[0m\u001b[0m\n\u001b[1;32m      9\u001b[0m     \u001b[0my_batch\u001b[0m \u001b[0;34m=\u001b[0m \u001b[0mnp\u001b[0m\u001b[0;34m.\u001b[0m\u001b[0marray\u001b[0m\u001b[0;34m(\u001b[0m\u001b[0;34m[\u001b[0m\u001b[0mlabels\u001b[0m \u001b[0;32mfor\u001b[0m \u001b[0mpath\u001b[0m\u001b[0;34m,\u001b[0m\u001b[0mlabels\u001b[0m \u001b[0;32min\u001b[0m \u001b[0mbatch_path_and_classes\u001b[0m\u001b[0;34m]\u001b[0m\u001b[0;34m,\u001b[0m\u001b[0mdtype\u001b[0m\u001b[0;34m=\u001b[0m\u001b[0mnp\u001b[0m\u001b[0;34m.\u001b[0m\u001b[0mint32\u001b[0m\u001b[0;34m)\u001b[0m\u001b[0;34m\u001b[0m\u001b[0m\n",
      "\u001b[0;32m<ipython-input-7-6b7d9e71dc38>\u001b[0m in \u001b[0;36m<listcomp>\u001b[0;34m(.0)\u001b[0m\n\u001b[1;32m      5\u001b[0m     \u001b[0mbatch_path_and_classes\u001b[0m \u001b[0;34m=\u001b[0m \u001b[0msample\u001b[0m\u001b[0;34m(\u001b[0m\u001b[0mflower_paths_and_classes\u001b[0m\u001b[0;34m,\u001b[0m\u001b[0mbatch_size\u001b[0m\u001b[0;34m)\u001b[0m\u001b[0;34m\u001b[0m\u001b[0m\n\u001b[1;32m      6\u001b[0m     \u001b[0mimages\u001b[0m \u001b[0;34m=\u001b[0m \u001b[0;34m[\u001b[0m\u001b[0mmpimg\u001b[0m\u001b[0;34m.\u001b[0m\u001b[0mimread\u001b[0m\u001b[0;34m(\u001b[0m\u001b[0mpath\u001b[0m\u001b[0;34m)\u001b[0m\u001b[0;34m[\u001b[0m\u001b[0;34m:\u001b[0m\u001b[0;34m,\u001b[0m\u001b[0;34m:\u001b[0m\u001b[0;34m,\u001b[0m\u001b[0;34m:\u001b[0m\u001b[0mchannels\u001b[0m\u001b[0;34m]\u001b[0m \u001b[0;32mfor\u001b[0m \u001b[0mpath\u001b[0m\u001b[0;34m,\u001b[0m\u001b[0mlabels\u001b[0m \u001b[0;32min\u001b[0m \u001b[0mbatch_path_and_classes\u001b[0m\u001b[0;34m]\u001b[0m\u001b[0;34m\u001b[0m\u001b[0m\n\u001b[0;32m----> 7\u001b[0;31m     \u001b[0mprepared_image\u001b[0m \u001b[0;34m=\u001b[0m \u001b[0;34m[\u001b[0m\u001b[0mprepare_image\u001b[0m\u001b[0;34m(\u001b[0m\u001b[0mimage\u001b[0m\u001b[0;34m)\u001b[0m \u001b[0;32mfor\u001b[0m \u001b[0mimage\u001b[0m \u001b[0;32min\u001b[0m \u001b[0mimages\u001b[0m\u001b[0;34m]\u001b[0m\u001b[0;34m\u001b[0m\u001b[0m\n\u001b[0m\u001b[1;32m      8\u001b[0m     \u001b[0mX_batch\u001b[0m \u001b[0;34m=\u001b[0m \u001b[0;36m2\u001b[0m\u001b[0;34m*\u001b[0m\u001b[0mnp\u001b[0m\u001b[0;34m.\u001b[0m\u001b[0mstack\u001b[0m\u001b[0;34m(\u001b[0m\u001b[0mprepared_image\u001b[0m\u001b[0;34m)\u001b[0m\u001b[0;34m-\u001b[0m\u001b[0;36m1\u001b[0m \u001b[0;31m# inception 输入要求\u001b[0m\u001b[0;34m\u001b[0m\u001b[0m\n\u001b[1;32m      9\u001b[0m     \u001b[0my_batch\u001b[0m \u001b[0;34m=\u001b[0m \u001b[0mnp\u001b[0m\u001b[0;34m.\u001b[0m\u001b[0marray\u001b[0m\u001b[0;34m(\u001b[0m\u001b[0;34m[\u001b[0m\u001b[0mlabels\u001b[0m \u001b[0;32mfor\u001b[0m \u001b[0mpath\u001b[0m\u001b[0;34m,\u001b[0m\u001b[0mlabels\u001b[0m \u001b[0;32min\u001b[0m \u001b[0mbatch_path_and_classes\u001b[0m\u001b[0;34m]\u001b[0m\u001b[0;34m,\u001b[0m\u001b[0mdtype\u001b[0m\u001b[0;34m=\u001b[0m\u001b[0mnp\u001b[0m\u001b[0;34m.\u001b[0m\u001b[0mint32\u001b[0m\u001b[0;34m)\u001b[0m\u001b[0;34m\u001b[0m\u001b[0m\n",
      "\u001b[0;32m<ipython-input-3-20d786209e2f>\u001b[0m in \u001b[0;36mprepare_image\u001b[0;34m(image, target_width, target_height, max_zoom)\u001b[0m\n\u001b[1;32m     23\u001b[0m         \u001b[0mcrop_image\u001b[0m \u001b[0;34m=\u001b[0m \u001b[0mnp\u001b[0m\u001b[0;34m.\u001b[0m\u001b[0mfliplr\u001b[0m\u001b[0;34m(\u001b[0m\u001b[0mcrop_image\u001b[0m\u001b[0;34m)\u001b[0m\u001b[0;34m\u001b[0m\u001b[0m\n\u001b[1;32m     24\u001b[0m \u001b[0;34m\u001b[0m\u001b[0m\n\u001b[0;32m---> 25\u001b[0;31m     \u001b[0mresize_image\u001b[0m \u001b[0;34m=\u001b[0m \u001b[0mimresize\u001b[0m\u001b[0;34m(\u001b[0m\u001b[0mcrop_image\u001b[0m\u001b[0;34m,\u001b[0m\u001b[0;34m(\u001b[0m\u001b[0mtarget_height\u001b[0m\u001b[0;34m,\u001b[0m\u001b[0mtarget_width\u001b[0m\u001b[0;34m)\u001b[0m\u001b[0;34m)\u001b[0m\u001b[0;34m\u001b[0m\u001b[0m\n\u001b[0m\u001b[1;32m     26\u001b[0m     \u001b[0;32mreturn\u001b[0m \u001b[0mresize_image\u001b[0m\u001b[0;34m.\u001b[0m\u001b[0mastype\u001b[0m\u001b[0;34m(\u001b[0m\u001b[0mnp\u001b[0m\u001b[0;34m.\u001b[0m\u001b[0mfloat32\u001b[0m\u001b[0;34m)\u001b[0m\u001b[0;34m/\u001b[0m\u001b[0;36m255\u001b[0m\u001b[0;34m\u001b[0m\u001b[0m\n\u001b[1;32m     27\u001b[0m \u001b[0;34m\u001b[0m\u001b[0m\n",
      "\u001b[0;32m/usr/local/lib/python3.5/dist-packages/numpy/lib/utils.py\u001b[0m in \u001b[0;36mnewfunc\u001b[0;34m(*args, **kwds)\u001b[0m\n\u001b[1;32m     99\u001b[0m             \u001b[0;34m\"\"\"`arrayrange` is deprecated, use `arange` instead!\"\"\"\u001b[0m\u001b[0;34m\u001b[0m\u001b[0m\n\u001b[1;32m    100\u001b[0m             \u001b[0mwarnings\u001b[0m\u001b[0;34m.\u001b[0m\u001b[0mwarn\u001b[0m\u001b[0;34m(\u001b[0m\u001b[0mdepdoc\u001b[0m\u001b[0;34m,\u001b[0m \u001b[0mDeprecationWarning\u001b[0m\u001b[0;34m,\u001b[0m \u001b[0mstacklevel\u001b[0m\u001b[0;34m=\u001b[0m\u001b[0;36m2\u001b[0m\u001b[0;34m)\u001b[0m\u001b[0;34m\u001b[0m\u001b[0m\n\u001b[0;32m--> 101\u001b[0;31m             \u001b[0;32mreturn\u001b[0m \u001b[0mfunc\u001b[0m\u001b[0;34m(\u001b[0m\u001b[0;34m*\u001b[0m\u001b[0margs\u001b[0m\u001b[0;34m,\u001b[0m \u001b[0;34m**\u001b[0m\u001b[0mkwds\u001b[0m\u001b[0;34m)\u001b[0m\u001b[0;34m\u001b[0m\u001b[0m\n\u001b[0m\u001b[1;32m    102\u001b[0m \u001b[0;34m\u001b[0m\u001b[0m\n\u001b[1;32m    103\u001b[0m         \u001b[0mnewfunc\u001b[0m \u001b[0;34m=\u001b[0m \u001b[0m_set_function_name\u001b[0m\u001b[0;34m(\u001b[0m\u001b[0mnewfunc\u001b[0m\u001b[0;34m,\u001b[0m \u001b[0mold_name\u001b[0m\u001b[0;34m)\u001b[0m\u001b[0;34m\u001b[0m\u001b[0m\n",
      "\u001b[0;32m/usr/local/lib/python3.5/dist-packages/scipy/misc/pilutil.py\u001b[0m in \u001b[0;36mimresize\u001b[0;34m(arr, size, interp, mode)\u001b[0m\n\u001b[1;32m    562\u001b[0m         \u001b[0msize\u001b[0m \u001b[0;34m=\u001b[0m \u001b[0;34m(\u001b[0m\u001b[0msize\u001b[0m\u001b[0;34m[\u001b[0m\u001b[0;36m1\u001b[0m\u001b[0;34m]\u001b[0m\u001b[0;34m,\u001b[0m \u001b[0msize\u001b[0m\u001b[0;34m[\u001b[0m\u001b[0;36m0\u001b[0m\u001b[0;34m]\u001b[0m\u001b[0;34m)\u001b[0m\u001b[0;34m\u001b[0m\u001b[0m\n\u001b[1;32m    563\u001b[0m     \u001b[0mfunc\u001b[0m \u001b[0;34m=\u001b[0m \u001b[0;34m{\u001b[0m\u001b[0;34m'nearest'\u001b[0m\u001b[0;34m:\u001b[0m \u001b[0;36m0\u001b[0m\u001b[0;34m,\u001b[0m \u001b[0;34m'lanczos'\u001b[0m\u001b[0;34m:\u001b[0m \u001b[0;36m1\u001b[0m\u001b[0;34m,\u001b[0m \u001b[0;34m'bilinear'\u001b[0m\u001b[0;34m:\u001b[0m \u001b[0;36m2\u001b[0m\u001b[0;34m,\u001b[0m \u001b[0;34m'bicubic'\u001b[0m\u001b[0;34m:\u001b[0m \u001b[0;36m3\u001b[0m\u001b[0;34m,\u001b[0m \u001b[0;34m'cubic'\u001b[0m\u001b[0;34m:\u001b[0m \u001b[0;36m3\u001b[0m\u001b[0;34m}\u001b[0m\u001b[0;34m\u001b[0m\u001b[0m\n\u001b[0;32m--> 564\u001b[0;31m     \u001b[0mimnew\u001b[0m \u001b[0;34m=\u001b[0m \u001b[0mim\u001b[0m\u001b[0;34m.\u001b[0m\u001b[0mresize\u001b[0m\u001b[0;34m(\u001b[0m\u001b[0msize\u001b[0m\u001b[0;34m,\u001b[0m \u001b[0mresample\u001b[0m\u001b[0;34m=\u001b[0m\u001b[0mfunc\u001b[0m\u001b[0;34m[\u001b[0m\u001b[0minterp\u001b[0m\u001b[0;34m]\u001b[0m\u001b[0;34m)\u001b[0m\u001b[0;34m\u001b[0m\u001b[0m\n\u001b[0m\u001b[1;32m    565\u001b[0m     \u001b[0;32mreturn\u001b[0m \u001b[0mfromimage\u001b[0m\u001b[0;34m(\u001b[0m\u001b[0mimnew\u001b[0m\u001b[0;34m)\u001b[0m\u001b[0;34m\u001b[0m\u001b[0m\n\u001b[1;32m    566\u001b[0m \u001b[0;34m\u001b[0m\u001b[0m\n",
      "\u001b[0;32m/usr/local/lib/python3.5/dist-packages/PIL/Image.py\u001b[0m in \u001b[0;36mresize\u001b[0;34m(self, size, resample, box)\u001b[0m\n\u001b[1;32m   1747\u001b[0m         \u001b[0mself\u001b[0m\u001b[0;34m.\u001b[0m\u001b[0mload\u001b[0m\u001b[0;34m(\u001b[0m\u001b[0;34m)\u001b[0m\u001b[0;34m\u001b[0m\u001b[0m\n\u001b[1;32m   1748\u001b[0m \u001b[0;34m\u001b[0m\u001b[0m\n\u001b[0;32m-> 1749\u001b[0;31m         \u001b[0;32mreturn\u001b[0m \u001b[0mself\u001b[0m\u001b[0;34m.\u001b[0m\u001b[0m_new\u001b[0m\u001b[0;34m(\u001b[0m\u001b[0mself\u001b[0m\u001b[0;34m.\u001b[0m\u001b[0mim\u001b[0m\u001b[0;34m.\u001b[0m\u001b[0mresize\u001b[0m\u001b[0;34m(\u001b[0m\u001b[0msize\u001b[0m\u001b[0;34m,\u001b[0m \u001b[0mresample\u001b[0m\u001b[0;34m,\u001b[0m \u001b[0mbox\u001b[0m\u001b[0;34m)\u001b[0m\u001b[0;34m)\u001b[0m\u001b[0;34m\u001b[0m\u001b[0m\n\u001b[0m\u001b[1;32m   1750\u001b[0m \u001b[0;34m\u001b[0m\u001b[0m\n\u001b[1;32m   1751\u001b[0m     def rotate(self, angle, resample=NEAREST, expand=0, center=None,\n",
      "\u001b[0;31mKeyboardInterrupt\u001b[0m: "
     ]
    }
   ],
   "source": [
    "n_epochs = 100\n",
    "batch_size = 32\n",
    "n_iterations_per_epoch = len(flower_paths_and_classes_train) // batch_size\n",
    "# n_iterations_per_epoch = 10\n",
    "with tf.Session() as sess:\n",
    "    init.run()\n",
    "#     inception_saver.restore(sess,INCEPTION_V3_CHECKPOINT_PATH)\n",
    "    saver.restore(sess,'./model/my_flower_model_80')\n",
    "    for i in range(n_epochs):\n",
    "        print('Epoch ',i)\n",
    "        for step in range(n_iterations_per_epoch):\n",
    "            print('.',end='')\n",
    "            X_batch,y_batch = prepare_batch(flower_paths_and_classes_train,batch_size)\n",
    "            _,losses,global_steps=sess.run([train_op,loss,add_global],\n",
    "                                  feed_dict={X:X_batch,\n",
    "                                             y:y_batch,\n",
    "                                             training:True,\n",
    "                                             keep_prob:0.5})\n",
    "        acc_train = sess.run(accuracy,feed_dict={X:X_batch,y:y_batch,\n",
    "                                                keep_prob:0.2})\n",
    "        print('learning_rate: %s' %sess.run(learning_rate))\n",
    "        print('global step %s' % global_steps)\n",
    "        print('accuracy is %g, loss %g' %(acc_train,losses))\n",
    "        save_path = saver.save(sess,'./my_flower_model')"
   ]
  },
  {
   "cell_type": "code",
   "execution_count": null,
   "metadata": {},
   "outputs": [],
   "source": []
  }
 ],
 "metadata": {
  "kernelspec": {
   "display_name": "Python 3",
   "language": "python",
   "name": "python3"
  },
  "language_info": {
   "codemirror_mode": {
    "name": "ipython",
    "version": 3
   },
   "file_extension": ".py",
   "mimetype": "text/x-python",
   "name": "python",
   "nbconvert_exporter": "python",
   "pygments_lexer": "ipython3",
   "version": "3.5.2"
  }
 },
 "nbformat": 4,
 "nbformat_minor": 2
}
